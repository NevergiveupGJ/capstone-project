{
    "cells": [
        {
            "cell_type": "markdown",
            "metadata": {},
            "source": "# This file will be sued for capstone project"
        },
        {
            "cell_type": "code",
            "execution_count": 13,
            "metadata": {},
            "outputs": [
                {
                    "name": "stderr",
                    "output_type": "stream",
                    "text": "/Users/guangjiyuan/opt/anaconda3/lib/python3.7/site-packages/IPython/core/interactiveshell.py:3063: DtypeWarning: Columns (33) have mixed types.Specify dtype option on import or set low_memory=False.\n  interactivity=interactivity, compiler=compiler, result=result)\n"
                }
            ],
            "source": "import numpy as np\nimport pandas as pd\ndf = pd.read_csv('/Users/guangjiyuan/Desktop/Data-Collisions.csv',index_col=0)\n"
        },
        {
            "cell_type": "code",
            "execution_count": 10,
            "metadata": {
                "scrolled": true
            },
            "outputs": [],
            "source": "pd.set_option('display.max_columns', None)\npd.set_option('display.max_rows', None)"
        },
        {
            "cell_type": "code",
            "execution_count": 3,
            "metadata": {
                "scrolled": true
            },
            "outputs": [
                {
                    "data": {
                        "text/plain": "5012"
                    },
                    "execution_count": 3,
                    "metadata": {},
                    "output_type": "execute_result"
                }
            ],
            "source": "df.ROADCOND.isnull().sum()\n"
        },
        {
            "cell_type": "code",
            "execution_count": 4,
            "metadata": {},
            "outputs": [
                {
                    "name": "stdout",
                    "output_type": "stream",
                    "text": "Hello Capstone Project Course!\n"
                }
            ],
            "source": "print ('Hello Capstone Project Course!')"
        },
        {
            "cell_type": "code",
            "execution_count": 12,
            "metadata": {},
            "outputs": [
                {
                    "name": "stdout",
                    "output_type": "stream",
                    "text": "['X' 'Y' 'OBJECTID' 'INCKEY' 'COLDETKEY' 'REPORTNO' 'STATUS' 'ADDRTYPE'\n 'INTKEY' 'LOCATION' 'EXCEPTRSNCODE' 'EXCEPTRSNDESC' 'SEVERITYCODE.1'\n 'SEVERITYDESC' 'COLLISIONTYPE' 'PERSONCOUNT' 'PEDCOUNT' 'PEDCYLCOUNT'\n 'VEHCOUNT' 'INCDATE' 'INCDTTM' 'JUNCTIONTYPE' 'SDOT_COLCODE'\n 'SDOT_COLDESC' 'INATTENTIONIND' 'UNDERINFL' 'WEATHER' 'ROADCOND'\n 'LIGHTCOND' 'PEDROWNOTGRNT' 'SDOTCOLNUM' 'SPEEDING' 'ST_COLCODE'\n 'ST_COLDESC' 'SEGLANEKEY' 'CROSSWALKKEY' 'HITPARKEDCAR']\n"
                }
            ],
            "source": "print(df.columns.values)"
        },
        {
            "cell_type": "markdown",
            "metadata": {},
            "source": "# Research Question"
        },
        {
            "cell_type": "code",
            "execution_count": null,
            "metadata": {},
            "outputs": [],
            "source": "What condition of the environment predicts the severety of a car accident?"
        },
        {
            "cell_type": "markdown",
            "metadata": {},
            "source": "# Data Section"
        },
        {
            "cell_type": "code",
            "execution_count": null,
            "metadata": {},
            "outputs": [],
            "source": "#In this report, I will use mainly quantitiative data with several \n#categorical data, which includes\n'STATUS' 'ADDRTYPE' 'EXCEPTRSNCODE' 'EXCEPTRSNDESC' 'SEVERITYCODE.1'\n 'COLLISIONTYPE' 'PERSONCOUNT' 'PEDCOUNT' 'PEDCYLCOUNT'\n 'VEHCOUNT' 'INCDATE' 'SDOT_COLCODE' 'WEATHER' 'ROADCOND'\n 'LIGHTCOND' 'PEDROWNOTGRNT' 'SDOTCOLNUM' 'SPEEDING' 'ST_COLCODE'\n 'SEGLANEKEY' 'CROSSWALKKEY' 'HITPARKEDCAR']\n"
        }
    ],
    "metadata": {
        "kernelspec": {
            "display_name": "Python 3",
            "language": "python",
            "name": "python3"
        },
        "language_info": {
            "codemirror_mode": {
                "name": "ipython",
                "version": 3
            },
            "file_extension": ".py",
            "mimetype": "text/x-python",
            "name": "python",
            "nbconvert_exporter": "python",
            "pygments_lexer": "ipython3",
            "version": "3.7.6"
        }
    },
    "nbformat": 4,
    "nbformat_minor": 4
}